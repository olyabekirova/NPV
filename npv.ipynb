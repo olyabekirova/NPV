{
 "cells": [
  {
   "cell_type": "code",
   "execution_count": 5,
   "metadata": {},
   "outputs": [
    {
     "name": "stdout",
     "output_type": "stream",
     "text": [
      "NPV of project= 1849477.0\n"
     ]
    }
   ],
   "source": [
    "import scipy as sp \n",
    "nYear=5                 # number of years\n",
    "costEquipment= 5e6      # 5 million \n",
    "n=nYear+1               # add year zero\n",
    "price=28                # price of the product \n",
    "units=100000            # estimate number of units sold\n",
    "otherCost=100000        # other costs \n",
    "sellingCost=1500        # selling and administration cost \n",
    "R_and_D=200000          # Research and development \n",
    "costRawMaterials=0.3    # percentage cost of raw materials\n",
    "R=0.15                  # discount rate \n",
    "tax=0.38                # corporate tax rate \n",
    "#\n",
    "sales=sp.ones(n)*price*units \n",
    "sales[0]=0   # sales for 1st year is zero \n",
    "cost1=costRawMaterials*sales \n",
    "cost2=sp.ones(n)*otherCost \n",
    "cost3=sp.ones(n)*sellingCost \n",
    "cost4=sp.zeros(n) \n",
    "cost4[0]=costEquipment\n",
    "RD=sp.zeros(n) \n",
    "RD[0]=R_and_D                # assume R&D at time zero \n",
    "D=sp.ones(n)*costEquipment/nYear  # straight line depreciation \n",
    "D[0]=0                            # no depreciation at time 0 \n",
    "EBIT=sales-cost1-cost2-cost3-cost4-RD-D \n",
    "NI=EBIT*(1-tax) \n",
    "FCF=NI+D          # add back depreciation \n",
    "npvProject=sp.npv(R,FCF)         # estimate NPV \n",
    "npvProject = round(npvProject,0)\n",
    "print(\"NPV of project=\", npvProject) "
   ]
  },
  {
   "cell_type": "code",
   "execution_count": 6,
   "metadata": {},
   "outputs": [],
   "source": [
    "import scipy as sp \n",
    "import matplotlib.pyplot as plt \n",
    "nYear=5      # number of years \n",
    "costEquipment=5e6       # 5 million \n",
    "n=nYear+1               # add year zero \n",
    "otherCost=100000        # other costs \n",
    "sellingCost=1500        # selling and administration cost \n",
    "\n"
   ]
  },
  {
   "cell_type": "code",
   "execution_count": 8,
   "metadata": {},
   "outputs": [
    {
     "name": "stdout",
     "output_type": "stream",
     "text": [
      "mean NPV of project= 1.0\n",
      "min  NPV of project= -2.0\n",
      "max  NPV of project= 6.0\n"
     ]
    },
    {
     "data": {
      "image/png": "[encoded data removed]",
      "text/plain": [
       "<Figure size 432x288 with 1 Axes>"
      ]
     },
     "metadata": {
      "needs_background": "light"
     },
     "output_type": "display_data"
    }
   ],
   "source": [
    "R_and_D=200000    # Research and development\n",
    "costRawMaterials=0.3    # percentage cost of raw materials\n",
    "tax=0.38                # corporate tax rate \n",
    "thousand=1e3            # unit of thousand \n",
    "million=1e6             # unit of million \n",
    "# \n",
    "# three uncertainties: price, unit and discount rate \n",
    "nSimulation=100         # number of simulation\n",
    "lowPrice=10             # low price\n",
    "highPrice=30            # high price\n",
    "lowUnit=50*thousand     # low units expected to sell \n",
    "highUnit=200*thousand   # high units expected to sell\n",
    "lowRate=0.15            # lower discount rate\n",
    "highRate=0.25           # high discount rate\n",
    "#\n",
    "n2=nSimulation \n",
    "sp.random.seed(888)\n",
    "price0=sp.random.uniform(low=lowPrice,high=highPrice,size=n2) \n",
    "units0=sp.random.uniform(low=lowUnit,high=highUnit,size=n2)\n",
    "R0=sp.random.uniform(lowRate,highRate,size=n2) \n",
    "#\n",
    "npv=[]\n",
    "for i in sp.arange(nSimulation):\n",
    "    units=sp.ones(n)*units0[i]\n",
    "    price=price0[i]\n",
    "    R=R0[i]\n",
    "    sales=units*price\n",
    "    sales[0]=0    # sales for 1st year is zero\n",
    "    cost1=costRawMaterials*sales\n",
    "    cost2=sp.ones(n)*otherCost\n",
    "    cost3=sp.ones(n)*sellingCost\n",
    "    cost4=sp.zeros(n)\n",
    "    cost4[0]=costEquipment\n",
    "    RD=sp.zeros(n)\n",
    "    RD[0]=R_and_D                     # assume R&D at time zero\n",
    "    D=sp.ones(n)*costEquipment/nYear  # straight line depreciation\n",
    "    D[0]=0                            # no depreciation at time 0\n",
    "    EBIT=sales-cost1-cost2-cost3-cost4-RD-D \n",
    "    NI=EBIT*(1-tax)\n",
    "    FCF=NI+D                          # add back depreciation\n",
    "    npvProject=sp.npv(R,FCF)/million  # estimate NPV\n",
    "    npv.append(npvProject)\n",
    "print(\"mean NPV of project=\",round(sp.mean(npv),0))\n",
    "print(\"min  NPV of project=\",round(min(npv),0))\n",
    "print(\"max  NPV of project=\",round(max(npv),0))\n",
    "plt.title(\"NPV of the project: 3 uncertainties\")\n",
    "plt.xlabel(\"NPV (in million)\") \n",
    "plt.hist(npv, 50, range=[-3, 6], facecolor='blue', align='mid') \n",
    "plt.show()"
   ]
  },
  {
   "cell_type": "code",
   "execution_count": null,
   "metadata": {},
   "outputs": [],
   "source": []
  }
 ],
 "metadata": {
  "kernelspec": {
   "display_name": "Python 3",
   "language": "python",
   "name": "python3"
  },
  "language_info": {
   "codemirror_mode": {
    "name": "ipython",
    "version": 3
   },
   "file_extension": ".py",
   "mimetype": "text/x-python",
   "name": "python",
   "nbconvert_exporter": "python",
   "pygments_lexer": "ipython3",
   "version": "3.7.0"
  }
 },
 "nbformat": 4,
 "nbformat_minor": 2
}
